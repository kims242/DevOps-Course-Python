{
 "cells": [
  {
   "cell_type": "markdown",
   "metadata": {},
   "source": [
    "Install Libraries"
   ]
  },
  {
   "cell_type": "code",
   "execution_count": null,
   "metadata": {},
   "outputs": [],
   "source": [
    "# Uncomment the lines below to install necessary libraries if they are not already installed\n",
    "\n",
    "# !pip install numpy pandas requests"
   ]
  },
  {
   "cell_type": "markdown",
   "metadata": {},
   "source": [
    "\n",
    "\n",
    "## **Lab Exercise: Putting It All Together**\n",
    "\n",
    "Now it's time to apply what you've learned! This lab exercise is designed to take approximately **15 minutes**.\n",
    "\n",
    "### **Exercise Instructions**\n",
    "\n",
    "You will create a simple program that:\n",
    "\n",
    "1. **Reads data from a CSV file.** If you don't have a CSV file, you can use the provided sample data.\n",
    "2. **Processes the data using Pandas and NumPy.**\n",
    "3. **Defines and uses functions and classes.**\n",
    "4. **Performs data analysis and outputs results.**\n",
    "\n",
    "### **Steps**\n",
    "\n",
    "#### **a. Create or Load a CSV File**\n",
    "\n",
    "- Create a CSV file named `students.csv` with the following content:\n",
    "\n",
    "```\n",
    "columns: Name,Math,Science,English\n",
    "rows:\n",
    "Alice,85,90,95\n",
    "Bob,75,80,70\n",
    "Charlie,95,100,100\n",
    "Diana,65,70,60\n",
    "Edward,80,85,88\n",
    "```\n",
    "use `df.to_csv(filename, index=False)` to save dataframe as csv\n"
   ]
  },
  {
   "cell_type": "code",
   "execution_count": 2,
   "metadata": {},
   "outputs": [],
   "source": [
    "# Sample code to create the CSV file\n",
    "import pandas as pd\n",
    "# Complete the code here\n",
    "\n",
    "data = {'Name': ['Alice', 'Bob', 'Charlie', 'Diana', 'Edward'],\n",
    "        'Math': [85, 75, 95, 65, 80],\n",
    "        'Science': [90, 80, 95, 70, 85],\n",
    "        'English': [95, 70, 100, 60, 88]}\n",
    "df = pd.DataFrame(data)\n",
    "\n",
    "df.to_csv('students.csv', index=False)"
   ]
  },
  {
   "cell_type": "markdown",
   "metadata": {},
   "source": [
    "#### **b. Read the CSV File into a DataFrame**\n",
    "df = pd.read_csv(filename)"
   ]
  },
  {
   "cell_type": "code",
   "execution_count": 3,
   "metadata": {},
   "outputs": [
    {
     "name": "stdout",
     "output_type": "stream",
     "text": [
      "Students Data:\n",
      "       Name  Math  Science  English\n",
      "0    Alice    85       90       95\n",
      "1      Bob    75       80       70\n",
      "2  Charlie    95       95      100\n",
      "3    Diana    65       70       60\n",
      "4   Edward    80       85       88\n"
     ]
    }
   ],
   "source": [
    "# Read the CSV file\n",
    "# Complete the code here\n",
    "df = pd.read_csv('students.csv')\n",
    "\n",
    "\n",
    "print(\"Students Data:\\n\", df)"
   ]
  },
  {
   "cell_type": "markdown",
   "metadata": {},
   "source": [
    "#### **c. Calculate the Average Score for Each Student**\n",
    "\n",
    "- Use a lambda function to calculate the average score across subjects."
   ]
  },
  {
   "cell_type": "code",
   "execution_count": 7,
   "metadata": {},
   "outputs": [
    {
     "name": "stdout",
     "output_type": "stream",
     "text": [
      "Data with Average Scores:\n",
      "       Name  Math  Science  English    Average\n",
      "0    Alice    85       90       95  90.000000\n",
      "1      Bob    75       80       70  75.000000\n",
      "2  Charlie    95       95      100  96.666667\n",
      "3    Diana    65       70       60  65.000000\n",
      "4   Edward    80       85       88  84.333333\n"
     ]
    }
   ],
   "source": [
    "# Calculate average score\n",
    "df = pd.read_csv('students.csv')\n",
    "\n",
    "df['Average'] = df[['Math', 'Science', 'English']].mean(axis=1)\n",
    "print(\"Data with Average Scores:\\n\", df)"
   ]
  },
  {
   "cell_type": "markdown",
   "metadata": {},
   "source": [
    "#### **d. Determine the Grade for Each Student**\n",
    "\n",
    "- Define a function that assigns a grade based on the average score:\n",
    "\n",
    "  - 90 and above: 'A'\n",
    "  - 80-89: 'B'\n",
    "  - 70-79: 'C'\n",
    "  - 60-69: 'D'\n",
    "  - Below 60: 'F'"
   ]
  },
  {
   "cell_type": "code",
   "execution_count": 14,
   "metadata": {},
   "outputs": [
    {
     "name": "stdout",
     "output_type": "stream",
     "text": [
      "Data with Grades:\n",
      "       Name  Math  Science  English    Average Grade\n",
      "0    Alice    85       90       95  90.000000     A\n",
      "1      Bob    75       80       70  75.000000     C\n",
      "2  Charlie    95       95      100  96.666667     A\n",
      "3    Diana    65       70       60  65.000000     D\n",
      "4   Edward    80       85       88  84.333333     B\n"
     ]
    }
   ],
   "source": [
    "# Function to determine grade\n",
    "def assign_grade(average):\n",
    "    if average >= 90:\n",
    "        return 'A'\n",
    "    elif average >= 80:\n",
    "        return 'B'\n",
    "    elif average >= 70:\n",
    "        return 'C'\n",
    "    elif average >= 60:\n",
    "        return 'D'\n",
    "    else:\n",
    "        return 'F'\n",
    "    # Complete the code here\n",
    "\n",
    "\n",
    "# Apply the function to assign grades\n",
    "df['Grade'] = df['Average'].apply(assign_grade)\n",
    "print(\"Data with Grades:\\n\", df)"
   ]
  },
  {
   "cell_type": "markdown",
   "metadata": {},
   "source": [
    "#### **e. Create a Class to Represent Each Student**\n",
    "\n",
    "- Define a `Student` class with attributes for name and scores, and methods to calculate the average and grade."
   ]
  },
  {
   "cell_type": "code",
   "execution_count": 15,
   "metadata": {},
   "outputs": [],
   "source": [
    "class Student:\n",
    "    \n",
    "    # Complete the code here\n",
    "    # initiator\n",
    "    df = pd.read_csv('students.csv')\n",
    "\n",
    "    # calculate_average function\n",
    "    df['Average'] = df[['Math', 'Science', 'English']].mean(axis=1)\n",
    "\n",
    "    # assign_grade function\n",
    "    df['Grade'] = df['Average'].apply(assign_grade)\n",
    "\n",
    "\n",
    "    "
   ]
  },
  {
   "cell_type": "markdown",
   "metadata": {},
   "source": [
    "#### **f. Create Instances of the `Student` Class and Display Results**\n"
   ]
  },
  {
   "cell_type": "code",
   "execution_count": 16,
   "metadata": {},
   "outputs": [
    {
     "ename": "TypeError",
     "evalue": "Student() takes no arguments",
     "output_type": "error",
     "traceback": [
      "\u001b[0;31m---------------------------------------------------------------------------\u001b[0m",
      "\u001b[0;31mTypeError\u001b[0m                                 Traceback (most recent call last)",
      "Cell \u001b[0;32mIn[16], line 13\u001b[0m\n\u001b[1;32m     11\u001b[0m \u001b[38;5;66;03m# Iterate through the DataFrame and create Student objects\u001b[39;00m\n\u001b[1;32m     12\u001b[0m \u001b[38;5;28;01mfor\u001b[39;00m index, row \u001b[38;5;129;01min\u001b[39;00m df\u001b[38;5;241m.\u001b[39miterrows():\n\u001b[0;32m---> 13\u001b[0m     student \u001b[38;5;241m=\u001b[39m \u001b[43mStudent\u001b[49m\u001b[43m(\u001b[49m\u001b[43mrow\u001b[49m\u001b[43m[\u001b[49m\u001b[38;5;124;43m'\u001b[39;49m\u001b[38;5;124;43mName\u001b[39;49m\u001b[38;5;124;43m'\u001b[39;49m\u001b[43m]\u001b[49m\u001b[43m,\u001b[49m\u001b[43m \u001b[49m\u001b[43mrow\u001b[49m\u001b[43m[\u001b[49m\u001b[38;5;124;43m'\u001b[39;49m\u001b[38;5;124;43mMath\u001b[39;49m\u001b[38;5;124;43m'\u001b[39;49m\u001b[43m]\u001b[49m\u001b[43m,\u001b[49m\u001b[43m \u001b[49m\u001b[43mrow\u001b[49m\u001b[43m[\u001b[49m\u001b[38;5;124;43m'\u001b[39;49m\u001b[38;5;124;43mScience\u001b[39;49m\u001b[38;5;124;43m'\u001b[39;49m\u001b[43m]\u001b[49m\u001b[43m,\u001b[49m\u001b[43m \u001b[49m\u001b[43mrow\u001b[49m\u001b[43m[\u001b[49m\u001b[38;5;124;43m'\u001b[39;49m\u001b[38;5;124;43mEnglish\u001b[39;49m\u001b[38;5;124;43m'\u001b[39;49m\u001b[43m]\u001b[49m\u001b[43m)\u001b[49m\n\u001b[1;32m     14\u001b[0m     students\u001b[38;5;241m.\u001b[39mappend(student)\n\u001b[1;32m     16\u001b[0m \u001b[38;5;66;03m# Display each student's details\u001b[39;00m\n",
      "\u001b[0;31mTypeError\u001b[0m: Student() takes no arguments"
     ]
    }
   ],
   "source": [
    "# List to store student objects\n",
    "\n",
    "df = pd.read_csv('students.csv')\n",
    "\n",
    "df['Average'] = df[['Math', 'Science', 'English']].mean(axis=1)\n",
    "\n",
    "df['Grade'] = df['Average'].apply(assign_grade)\n",
    "\n",
    "students = []\n",
    "\n",
    "# Iterate through the DataFrame and create Student objects\n",
    "for index, row in df.iterrows():\n",
    "    student = Student(row['Name'], row['Math'], row['Science'], row['English'])\n",
    "    students.append(student)\n",
    "\n",
    "# Display each student's details\n",
    "for student in students:\n",
    "    avg = student.calculate_average()\n",
    "    grade = student.assign_grade()\n",
    "    print(f\"Name: {student.name}, Average: {avg:.2f}, Grade: {grade}\")"
   ]
  },
  {
   "cell_type": "markdown",
   "metadata": {},
   "source": [
    "#### **g. Save the Updated Data to a New CSV File**"
   ]
  },
  {
   "cell_type": "code",
   "execution_count": 17,
   "metadata": {},
   "outputs": [
    {
     "name": "stdout",
     "output_type": "stream",
     "text": [
      "Updated data saved to 'students_updated.csv'\n"
     ]
    }
   ],
   "source": [
    "# Save the DataFrame with new columns to a CSV file\n",
    "df.to_csv('students_updated.csv', index=False)\n",
    "print(\"Updated data saved to 'students_updated.csv'\")"
   ]
  },
  {
   "cell_type": "markdown",
   "metadata": {},
   "source": [
    "### **Challenge Task (Optional)**\n",
    "- Use the `requests` library to fetch current exchange rates from an API and convert the average scores to another scale (e.g., out of 100 to GPA scale)."
   ]
  },
  {
   "cell_type": "code",
   "execution_count": null,
   "metadata": {},
   "outputs": [],
   "source": []
  }
 ],
 "metadata": {
  "kernelspec": {
   "display_name": ".venv",
   "language": "python",
   "name": "python3"
  },
  "language_info": {
   "codemirror_mode": {
    "name": "ipython",
    "version": 3
   },
   "file_extension": ".py",
   "mimetype": "text/x-python",
   "name": "python",
   "nbconvert_exporter": "python",
   "pygments_lexer": "ipython3",
   "version": "3.10.12"
  }
 },
 "nbformat": 4,
 "nbformat_minor": 2
}
